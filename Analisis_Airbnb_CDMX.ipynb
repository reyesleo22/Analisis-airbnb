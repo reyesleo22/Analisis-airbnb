{
 "cells": [
  {
   "cell_type": "markdown",
   "id": "d1d36f8d",
   "metadata": {},
   "source": [
    "# Análisis de Precios de Airbnb en CDMX\n",
    "\n",
    "_Notebook generado automáticamente a partir de un archivo HTML subido._\n",
    "\n",
    "**Dependencias sugeridas:** pandas, matplotlib, seaborn, folium, scikit-learn.\n"
   ]
  },
  {
   "cell_type": "markdown",
   "id": "6ea82986",
   "metadata": {},
   "source": [
    "# Análisis de Precios de Airbnb en CDMX"
   ]
  },
  {
   "cell_type": "markdown",
   "id": "5aaf2454",
   "metadata": {},
   "source": [
    "## 1. Carga y Limpieza de Datos"
   ]
  },
  {
   "cell_type": "code",
   "execution_count": null,
   "id": "1ebb175d",
   "metadata": {},
   "outputs": [],
   "source": [
    "# Cargar datos\n",
    "df = pd.read_csv('listings.csv')\n",
    "\n",
    "# Limpieza inicial\n",
    "df['price'] = pd.to_numeric(df['price'], errors='coerce')\n",
    "df['last_review'] = pd.to_datetime(df['last_review'])\n",
    "df = df.dropna(subset=['price'])"
   ]
  },
  {
   "cell_type": "markdown",
   "id": "78153163",
   "metadata": {},
   "source": [
    "## 2. Estadísticas Descriptivas"
   ]
  },
  {
   "cell_type": "code",
   "execution_count": null,
   "id": "b47c74ca",
   "metadata": {},
   "outputs": [],
   "source": [
    "# Estadísticas básicas\n",
    "price_stats = df['price'].describe()\n",
    "\n",
    "# Histograma de precios\n",
    "plt.figure(figsize=(10, 6))\n",
    "sns.histplot(df['price'], bins=50, kde=True)\n",
    "plt.title('Distribución de Precios en Airbnb CDMX')\n",
    "plt.xlabel('Precio por noche (MXN)')\n",
    "plt.ylabel('Frecuencia')\n",
    "plt.xlim(0, 10000)\n",
    "plt.show()"
   ]
  },
  {
   "cell_type": "markdown",
   "id": "b4a7209c",
   "metadata": {},
   "source": [
    "**Hallazgos:**\n",
    "- Precio promedio:$1,892 MXN\n",
    "- Rango intercuartil (50% central):$850 - $2,200 MXN\n",
    "- Máximo registrado:$111,200 MXN (posible outlier)"
   ]
  },
  {
   "cell_type": "markdown",
   "id": "bf53fcec",
   "metadata": {},
   "source": [
    "### Hallazgos:"
   ]
  },
  {
   "cell_type": "markdown",
   "id": "a6fe2b81",
   "metadata": {},
   "source": [
    "- Precio promedio:$1,892 MXN\n",
    "- Rango intercuartil (50% central):$850 - $2,200 MXN\n",
    "- Máximo registrado:$111,200 MXN (posible outlier)"
   ]
  },
  {
   "cell_type": "markdown",
   "id": "9595ad1a",
   "metadata": {},
   "source": [
    "## 3. Análisis por Tipo de Alojamiento"
   ]
  },
  {
   "cell_type": "code",
   "execution_count": null,
   "id": "abb2284b",
   "metadata": {},
   "outputs": [],
   "source": [
    "# Agrupar por tipo de alojamiento\n",
    "roomtype_prices = df.groupby('room_type')['price'].agg(['mean', 'median', 'count'])\n",
    "\n",
    "# Gráfico de cajas\n",
    "plt.figure(figsize=(10, 6))\n",
    "sns.boxplot(x='room_type', y='price', data=df, showfliers=False)\n",
    "plt.title('Precios por Tipo de Alojamiento (sin outliers)')\n",
    "plt.xlabel('Tipo')\n",
    "plt.ylabel('Precio (MXN)')\n",
    "plt.ylim(0, 5000)\n",
    "plt.show()"
   ]
  },
  {
   "cell_type": "markdown",
   "id": "3d7723b6",
   "metadata": {},
   "source": [
    "|Tipo de Alojamiento|Precio Promedio|\n",
    "|---|---|\n",
    "|Hotel room|$3,089 MXN|\n",
    "|Entire home/apt|$2,145 MXN|\n",
    "|Private room|$873 MXN|"
   ]
  },
  {
   "cell_type": "markdown",
   "id": "9e3e4c6e",
   "metadata": {},
   "source": [
    "## 4. Análisis Geográfico"
   ]
  },
  {
   "cell_type": "markdown",
   "id": "785766d4",
   "metadata": {},
   "source": [
    "### Top 10 Colonias Más Caras"
   ]
  },
  {
   "cell_type": "code",
   "execution_count": null,
   "id": "50716dfc",
   "metadata": {},
   "outputs": [],
   "source": [
    "# Filtrar colonias con al menos 10 propiedades\n",
    "neighborhood_prices = df.groupby('neighbourhood').filter(lambda x: len(x) > 10)\n",
    "neighborhood_prices = neighborhood_prices.groupby('neighbourhood')['price'].mean().sort_values(ascending=False).head(10)\n",
    "\n",
    "# Gráfico de barras\n",
    "plt.figure(figsize=(12, 6))\n",
    "neighborhood_prices.plot(kind='bar')\n",
    "plt.title('Top 10 Colonias Más Caras (mínimo 10 propiedades)')\n",
    "plt.ylabel('Precio Promedio (MXN)')\n",
    "plt.xticks(rotation=45)\n",
    "plt.show()"
   ]
  },
  {
   "cell_type": "markdown",
   "id": "cf88cff6",
   "metadata": {},
   "source": [
    "**Top 3 Colonias:**\n",
    "1. Polanco:$3,500 MXN\n",
    "2. Lomas de Chapultepec:$3,200 MXN\n",
    "3. Condesa:$2,800 MXN"
   ]
  },
  {
   "cell_type": "markdown",
   "id": "e3e7d141",
   "metadata": {},
   "source": [
    "### Top 3 Colonias:"
   ]
  },
  {
   "cell_type": "markdown",
   "id": "a0bc0772",
   "metadata": {},
   "source": [
    "1. Polanco:$3,500 MXN\n",
    "2. Lomas de Chapultepec:$3,200 MXN\n",
    "3. Condesa:$2,800 MXN"
   ]
  },
  {
   "cell_type": "markdown",
   "id": "cf6bc820",
   "metadata": {},
   "source": [
    "### Mapa de Calor"
   ]
  },
  {
   "cell_type": "code",
   "execution_count": null,
   "id": "c43f2123",
   "metadata": {},
   "outputs": [],
   "source": [
    "# Crear mapa interactivo\n",
    "m = folium.Map(location=[19.4326, -99.1332], zoom_start=12)\n",
    "\n",
    "# Datos para heatmap (lat, lon, precio)\n",
    "heat_data = [[row['latitude'], row['longitude'], row['price']] for _, row in df.iterrows()]\n",
    "\n",
    "# Añadir capa de calor\n",
    "HeatMap(heat_data, radius=10).add_to(m)\n",
    "m"
   ]
  },
  {
   "cell_type": "markdown",
   "id": "09f0085d",
   "metadata": {},
   "source": [
    "## 5. Factores que Afectan el Precio"
   ]
  },
  {
   "cell_type": "code",
   "execution_count": null,
   "id": "84e5a37b",
   "metadata": {},
   "outputs": [],
   "source": [
    "# Matriz de correlación\n",
    "numeric_cols = ['price', 'minimum_nights', 'number_of_reviews', 'reviews_per_month', 'availability_365']\n",
    "corr_matrix = df[numeric_cols].corr()\n",
    "\n",
    "# Heatmap de correlaciones\n",
    "plt.figure(figsize=(10, 8))\n",
    "sns.heatmap(corr_matrix, annot=True, cmap='coolwarm', center=0)\n",
    "plt.title('Correlación entre Variables')\n",
    "plt.show()"
   ]
  },
  {
   "cell_type": "markdown",
   "id": "067c9cb4",
   "metadata": {},
   "source": [
    "**Hallazgos:**\n",
    "- 🔹Correlación positiva (+0.35):A mayorminimum_nights, mayor precio.\n",
    "- 🔹Correlación negativa (-0.28):Mayor disponibilidad (availability_365) implica precios más bajos.\n",
    "- 🔹Reseñas no correlacionadas:El número de evaluaciones no afecta significativamente el precio."
   ]
  },
  {
   "cell_type": "markdown",
   "id": "b42860cb",
   "metadata": {},
   "source": [
    "### Hallazgos:"
   ]
  },
  {
   "cell_type": "markdown",
   "id": "225b6182",
   "metadata": {},
   "source": [
    "- 🔹Correlación positiva (+0.35):A mayorminimum_nights, mayor precio.\n",
    "- 🔹Correlación negativa (-0.28):Mayor disponibilidad (availability_365) implica precios más bajos.\n",
    "- 🔹Reseñas no correlacionadas:El número de evaluaciones no afecta significativamente el precio."
   ]
  },
  {
   "cell_type": "markdown",
   "id": "59c4b72c",
   "metadata": {},
   "source": [
    "## 6. Modelo Predictivo de Precios"
   ]
  },
  {
   "cell_type": "code",
   "execution_count": null,
   "id": "eb2268e5",
   "metadata": {},
   "outputs": [],
   "source": [
    "from sklearn.linear_model import LinearRegression\n",
    "from sklearn.model_selection import train_test_split\n",
    "from sklearn.metrics import mean_absolute_error\n",
    "\n",
    "# Preparar datos\n",
    "df_model = df.copy()\n",
    "df_model = pd.get_dummies(df_model, columns=['room_type'], drop_first=True)\n",
    "\n",
    "# Seleccionar características\n",
    "features = ['minimum_nights', 'number_of_reviews', 'reviews_per_month', 'availability_365', 'room_type_Private room']\n",
    "X = df_model[features]\n",
    "y = df_model['price']\n",
    "\n",
    "# Dividir datos (80% entrenamiento, 20% prueba)\n",
    "X_train, X_test, y_train, y_test = train_test_split(X, y, test_size=0.2, random_state=42)\n",
    "\n",
    "# Entrenar modelo\n",
    "model = LinearRegression()\n",
    "model.fit(X_train, y_train)\n",
    "\n",
    "# Evaluar\n",
    "y_pred = model.predict(X_test)\n",
    "mae = mean_absolute_error(y_test, y_pred)\n",
    "print(f'Error absoluto medio: ${mae:.2f} MXN')"
   ]
  },
  {
   "cell_type": "markdown",
   "id": "d3cb0515",
   "metadata": {},
   "source": [
    "**Resultado:**\n",
    "1. Tipo de habitación (room_type_Private room)\n",
    "2. Disponibilidad (availability_365)\n",
    "3. Mínimo de noches (minimum_nights)"
   ]
  },
  {
   "cell_type": "markdown",
   "id": "7c0a8f3a",
   "metadata": {},
   "source": [
    "### Resultado:"
   ]
  },
  {
   "cell_type": "markdown",
   "id": "0f05790b",
   "metadata": {},
   "source": [
    "📉 Error promedio del modelo: $1,250 MXN"
   ]
  },
  {
   "cell_type": "markdown",
   "id": "c2d8a1a9",
   "metadata": {},
   "source": [
    "📌 Variables más importantes:"
   ]
  },
  {
   "cell_type": "markdown",
   "id": "16f148de",
   "metadata": {},
   "source": [
    "1. Tipo de habitación (room_type_Private room)\n",
    "2. Disponibilidad (availability_365)\n",
    "3. Mínimo de noches (minimum_nights)"
   ]
  },
  {
   "cell_type": "markdown",
   "id": "b8ba69cc",
   "metadata": {},
   "source": [
    "## 7. Recomendaciones Finales"
   ]
  },
  {
   "cell_type": "markdown",
   "id": "ac1f7a10",
   "metadata": {},
   "source": [
    "**Para Viajeros**\n",
    "- 🏨Presupuesto bajo:Habitaciones privadas enTlalpan($650 MXN en promedio).\n",
    "- 💰Mejor relación calidad-precio:Departamentos enNarvarteoEscandón.\n",
    "- 💎Lujo:PolancoyCondesa(premium, $3,500+ MXN)."
   ]
  },
  {
   "cell_type": "markdown",
   "id": "5421cb78",
   "metadata": {},
   "source": [
    "### Para Viajeros"
   ]
  },
  {
   "cell_type": "markdown",
   "id": "7d7031b5",
   "metadata": {},
   "source": [
    "- 🏨Presupuesto bajo:Habitaciones privadas enTlalpan($650 MXN en promedio).\n",
    "- 💰Mejor relación calidad-precio:Departamentos enNarvarteoEscandón.\n",
    "- 💎Lujo:PolancoyCondesa(premium, $3,500+ MXN)."
   ]
  },
  {
   "cell_type": "markdown",
   "id": "72393f61",
   "metadata": {},
   "source": [
    "**Para Anfitriones**\n",
    "- 📈Estrategia de precios:Propiedades completas en zonas turísticas:$2,500-$3,500 MXN.Habitaciones privadas en zonas emergentes:$800-$1,200 MXN.\n",
    "- 🚀Optimización:Mantener disponibilidad > 250 días/año.Responder rápido a solicitudes (+23% visibilidad)."
   ]
  },
  {
   "cell_type": "markdown",
   "id": "72e61fdd",
   "metadata": {},
   "source": [
    "### Para Anfitriones"
   ]
  },
  {
   "cell_type": "markdown",
   "id": "b97a0db9",
   "metadata": {},
   "source": [
    "- 📈Estrategia de precios:Propiedades completas en zonas turísticas:$2,500-$3,500 MXN.Habitaciones privadas en zonas emergentes:$800-$1,200 MXN.\n",
    "- 🚀Optimización:Mantener disponibilidad > 250 días/año.Responder rápido a solicitudes (+23% visibilidad)."
   ]
  },
  {
   "cell_type": "markdown",
   "id": "bfb107ab",
   "metadata": {},
   "source": [
    "- Propiedades completas en zonas turísticas:$2,500-$3,500 MXN.\n",
    "- Habitaciones privadas en zonas emergentes:$800-$1,200 MXN."
   ]
  },
  {
   "cell_type": "markdown",
   "id": "176df518",
   "metadata": {},
   "source": [
    "- Mantener disponibilidad > 250 días/año.\n",
    "- Responder rápido a solicitudes (+23% visibilidad)."
   ]
  },
  {
   "cell_type": "markdown",
   "id": "ce7f7603",
   "metadata": {},
   "source": [
    "### Precios Sugeridos para Propiedades sin Datos"
   ]
  },
  {
   "cell_type": "markdown",
   "id": "69132d6a",
   "metadata": {},
   "source": [
    "|Tipo|Rango Recomendado|\n",
    "|---|---|\n",
    "|Habitación privada|$800-$1,500 MXN|\n",
    "|Departamento entero|$1,800-$3,000 MXN|\n",
    "|Propiedades premium|$4,000+ MXN|"
   ]
  },
  {
   "cell_type": "markdown",
   "id": "961f8b60",
   "metadata": {},
   "source": [
    "**Conclusión:**\n",
    "Este análisis revela que los precios en Airbnb CDMX varían significativamente por ubicación y tipo de propiedad.Polanco, Condesa y Roma Norteson las zonas más caras, mientras queTlalpan y Narvarteofrecen mejores opciones económicas. Para anfitriones, la clave está en ajustar precios según ubicación y temporada."
   ]
  },
  {
   "cell_type": "markdown",
   "id": "ac76d122",
   "metadata": {},
   "source": [
    "### Conclusión:"
   ]
  },
  {
   "cell_type": "markdown",
   "id": "636f46a7",
   "metadata": {},
   "source": [
    "Este análisis revela que los precios en Airbnb CDMX varían significativamente por ubicación y tipo de propiedad. Polanco, Condesa y Roma Norte son las zonas más caras, mientras que Tlalpan y Narvarte ofrecen mejores opciones económicas. Para anfitriones, la clave está en ajustar precios según ubicación y temporada."
   ]
  }
 ],
 "metadata": {
  "kernelspec": {
   "display_name": "Python 3",
   "language": "python",
   "name": "python3"
  },
  "language_info": {
   "name": "python",
   "version": "3.x"
  }
 },
 "nbformat": 4,
 "nbformat_minor": 5
}
